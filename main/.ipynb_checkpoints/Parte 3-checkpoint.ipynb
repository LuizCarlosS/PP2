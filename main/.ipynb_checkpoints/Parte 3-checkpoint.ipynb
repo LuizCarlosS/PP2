{
 "cells": [
  {
   "cell_type": "markdown",
   "metadata": {},
   "source": [
    "# Projeto Prático 2\n",
    "\n",
    "## Redes Neurais - 2020"
   ]
  },
  {
   "cell_type": "markdown",
   "metadata": {},
   "source": [
    "<img src=\"https://www.researchgate.net/profile/Germano_Rosa/publication/262747683/figure/fig1/AS:392393250623493@1470565249417/Figura-1-Modelo-de-um-neuronio-perceptron-de-Rosenblatt-Fonte-Adaptado-de-Medeiros.png\" width=600px height=200px />"
   ]
  },
  {
   "cell_type": "markdown",
   "metadata": {},
   "source": [
    "### Elaborado por: \n",
    "\n",
    "* Carlos Diego Ferreira\n",
    "* João Victor de Oliveira\n",
    "* Luiz Carlos Silva\n",
    "* Mikael Fonseca"
   ]
  },
  {
   "cell_type": "markdown",
   "metadata": {},
   "source": [
    "# Descrição Geral do projeto"
   ]
  },
  {
   "cell_type": "markdown",
   "metadata": {},
   "source": [
    "Está dividido em 3 grandes partes, sendo elas\n",
    "1. Implementação e treino de um neurônio apenas\n",
    "2. Testes com diferentes configurações de hiper parâmetros\n",
    "3. Treino em holdout + medição de desempenho\n",
    "\n",
    "Este notebook é referente à parte 3"
   ]
  },
  {
   "cell_type": "markdown",
   "metadata": {},
   "source": [
    "# Sumário:\n",
    "\n",
    "**1. [Parte 3: Nome da parte](#id1)** <br>\n",
    "**2. [Tem que mudar o Nome aqui tbm](#id2)** <br>"
   ]
  },
  {
   "cell_type": "markdown",
   "metadata": {},
   "source": [
    "<a id=\"id1\"></a> <br> \n",
    "## **Parte X: Nome da parte:** "
   ]
  },
  {
   "cell_type": "markdown",
   "metadata": {},
   "source": [
    "Inserir descrição"
   ]
  },
  {
   "cell_type": "markdown",
   "metadata": {},
   "source": [
    "<a id=\"id2\"></a> <br> \n",
    "## **Exemplo_2:** "
   ]
  },
  {
   "cell_type": "code",
   "execution_count": 1,
   "metadata": {},
   "outputs": [],
   "source": [
    "#imports\n",
    "import numpy as np\n",
    "import random\n",
    "import pandas as pd\n",
    "from matplotlib import pyplot as plt"
   ]
  },
  {
   "cell_type": "code",
   "execution_count": 69,
   "metadata": {},
   "outputs": [],
   "source": [
    "# dt = np.dtype([('x1', np.float64), ('x2', np.float64), ('yd', np.float64)])\n",
    "X = np.fromfile('../data/dataAll.txt')"
   ]
  },
  {
   "cell_type": "code",
   "execution_count": 73,
   "metadata": {},
   "outputs": [],
   "source": [
    "X = X.reshape(X.shape[0]//3, 3)"
   ]
  },
  {
   "cell_type": "code",
   "execution_count": null,
   "metadata": {},
   "outputs": [],
   "source": []
  },
  {
   "cell_type": "code",
   "execution_count": null,
   "metadata": {},
   "outputs": [],
   "source": [
    "import numpy as np\n",
    "import math\n",
    "\n",
    "def activation_function(u, threshold = 0):\n",
    "    return 1 if u >= threshold else 0\n",
    "\n",
    "class Perceptron:\n",
    "    def __init__(self, bias = 0):\n",
    "        self.bias = bias\n",
    "        self.weights = []\n",
    "    \n",
    "    def fit(self, train_data, train_output, learning_rate = 0.1, sampling_range = 1.0):\n",
    "        w = np.random.uniform(-sampling_range/2, sampling_range/2, len(train_data[0]) + 1)\n",
    "        print(\"Pesos iniciais: {}\".format(w))\n",
    "\n",
    "        xs = np.asarray(train_data)\n",
    "        xs = np.insert(xs, 0, -1, axis = 1)\n",
    "        y = np.asarray(train_output)\n",
    "\n",
    "        epoch = 0\n",
    "        total_changes = 0\n",
    "\n",
    "        changes = -1\n",
    "        while changes != 0:\n",
    "            changes = 0\n",
    "            \n",
    "            print(\"------ Época {} ------\".format(epoch + 1))\n",
    "\n",
    "            i = 0\n",
    "            for x in xs:\n",
    "                output = activation_function(np.dot(x, w))\n",
    "                error = y[i] - output\n",
    "\n",
    "                if error != 0:\n",
    "                    w = w + learning_rate * error * x\n",
    "                    print(\"Novos pesos: {}\".format(w))\n",
    "                    changes += 1\n",
    "\n",
    "                i += 1\n",
    "            \n",
    "            print(\"Total de ajustes: {}\".format(changes))\n",
    "            epoch += 1\n",
    "            total_changes += changes\n",
    "        \n",
    "        self.weights = w\n",
    "\n",
    "        print(\"*********************\")\n",
    "        print(\"Total de épocas: {}\".format(epoch))\n",
    "        print(\"Total de ajustes de peso: {}\".format(total_changes))\n",
    "    \n",
    "    def predict(self, input_data):\n",
    "        xs = np.asarray(input_data)\n",
    "        xs = np.insert(xs, 0, -1, axis = 1)\n",
    "\n",
    "        ys = np.empty(0)\n",
    "\n",
    "        for x in xs:\n",
    "            output = activation_function(np.dot(x, self.weights))\n",
    "            ys = np.append(ys, output)\n",
    "        \n",
    "        return ys\n",
    "    "
   ]
  }
 ],
 "metadata": {
  "kernelspec": {
   "display_name": "Python 3",
   "language": "python",
   "name": "python3"
  },
  "language_info": {
   "codemirror_mode": {
    "name": "ipython",
    "version": 3
   },
   "file_extension": ".py",
   "mimetype": "text/x-python",
   "name": "python",
   "nbconvert_exporter": "python",
   "pygments_lexer": "ipython3",
   "version": "3.7.4"
  }
 },
 "nbformat": 4,
 "nbformat_minor": 2
}
