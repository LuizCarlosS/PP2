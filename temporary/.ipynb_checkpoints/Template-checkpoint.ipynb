{
 "cells": [
  {
   "cell_type": "markdown",
   "metadata": {},
   "source": [
    "# Projeto Prático 2\n",
    "\n",
    "## Redes Neurais - 2020"
   ]
  },
  {
   "cell_type": "markdown",
   "metadata": {},
   "source": [
    "<img src=\"https://www.researchgate.net/profile/Germano_Rosa/publication/262747683/figure/fig1/AS:392393250623493@1470565249417/Figura-1-Modelo-de-um-neuronio-perceptron-de-Rosenblatt-Fonte-Adaptado-de-Medeiros.png\" width=600px height=200px />"
   ]
  },
  {
   "cell_type": "markdown",
   "metadata": {},
   "source": [
    "### Elaborado por: \n",
    "\n",
    "* Carlos Diego Ferreira\n",
    "* João Victor de Oliveira\n",
    "* Luiz Carlos Silva\n",
    "* Mikael Fonseca"
   ]
  },
  {
   "cell_type": "markdown",
   "metadata": {},
   "source": [
    "# Descrição Geral do projeto"
   ]
  },
  {
   "cell_type": "markdown",
   "metadata": {},
   "source": [
    "Está dividido em 3 grandes partes, sendo elas\n",
    "1. Implementação e treino de um neurônio apenas\n",
    "2. Testes com diferentes configurações de hiper parâmetros\n",
    "3. Treino em holdout + medição de desempenho\n",
    "\n",
    "Este notebook é referente à parte ~Editar numero da parte~"
   ]
  },
  {
   "cell_type": "markdown",
   "metadata": {},
   "source": [
    "# Sumário:\n",
    "\n",
    "**1. [Parte X: Nome da parte](#id1)** <br>\n",
    "**2. [Tem que mudar o Nome aqui tbm](#id2)** <br>"
   ]
  },
  {
   "cell_type": "markdown",
   "metadata": {},
   "source": [
    "<a id=\"id1\"></a> <br> \n",
    "## **Parte X: Nome da parte:** "
   ]
  },
  {
   "cell_type": "markdown",
   "metadata": {},
   "source": [
    "Inserir descrição"
   ]
  },
  {
   "cell_type": "markdown",
   "metadata": {},
   "source": [
    "<a id=\"id2\"></a> <br> \n",
    "## **Exemplo_2:** "
   ]
  },
  {
   "cell_type": "code",
   "execution_count": 1,
   "metadata": {},
   "outputs": [],
   "source": [
    "#imports\n",
    "import numpy as np\n",
    "import random\n",
    "import pandas as pd\n",
    "from matplotlib import pyplot as plt"
   ]
  },
  {
   "cell_type": "code",
   "execution_count": 69,
   "metadata": {},
   "outputs": [],
   "source": [
    "# dt = np.dtype([('x1', np.float64), ('x2', np.float64), ('yd', np.float64)])\n",
    "X = np.fromfile('../data/dataAll.txt')"
   ]
  },
  {
   "cell_type": "code",
   "execution_count": 71,
   "metadata": {},
   "outputs": [
    {
     "data": {
      "text/plain": [
       "array([[-363.7884,  244.1423,    0.    ],\n",
       "       [ 328.7572, -256.7658,    1.    ],\n",
       "       [-164.9827,  613.2164,    0.    ],\n",
       "       ...,\n",
       "       [ 872.4311,  669.1192,    1.    ],\n",
       "       [ 822.6894, -702.6489,    1.    ],\n",
       "       [-140.147 ,  734.0983,    0.    ]])"
      ]
     },
     "execution_count": 71,
     "metadata": {},
     "output_type": "execute_result"
    }
   ],
   "source": [
    "X.reshape(X.shape[0]//3, 3)"
   ]
  },
  {
   "cell_type": "code",
   "execution_count": null,
   "metadata": {},
   "outputs": [],
   "source": []
  }
 ],
 "metadata": {
  "kernelspec": {
   "display_name": "Python 3",
   "language": "python",
   "name": "python3"
  },
  "language_info": {
   "codemirror_mode": {
    "name": "ipython",
    "version": 3
   },
   "file_extension": ".py",
   "mimetype": "text/x-python",
   "name": "python",
   "nbconvert_exporter": "python",
   "pygments_lexer": "ipython3",
   "version": "3.7.6"
  }
 },
 "nbformat": 4,
 "nbformat_minor": 2
}
